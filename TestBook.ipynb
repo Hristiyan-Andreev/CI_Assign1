{
 "cells": [
  {
   "cell_type": "code",
   "execution_count": 51,
   "metadata": {},
   "outputs": [],
   "source": [
    "import json\n",
    "\n",
    "import matplotlib.pyplot as plt\n",
    "import numpy as np\n",
    "from scipy.optimize import minimize\n",
    "\n",
    "import gradient_descent as gd\n",
    "import logreg as lr\n",
    "import logreg_toolbox\n",
    "from logreg_toolbox import sig\n",
    "\n",
    "f = open('data_logreg.json', 'r')\n",
    "data = json.load(f)\n",
    "for k, v in data.items(): data[k] = np.array(v)  # Encode list into numpy array\n",
    "degree = 3\n",
    "eta = 1.\n",
    "max_iter = 20\n",
    "    # Expand with polynomial features\n",
    "X_train = logreg_toolbox.poly_2D_design_matrix(data['x1_train'], data['x2_train'], degree)\n",
    "Y_train = data['y_train']\n",
    "n = X_train.shape[1]\n",
    "N = X_train.shape[0]\n",
    "theta = np.zeros(n)"
   ]
  },
  {
   "cell_type": "code",
   "execution_count": 52,
   "metadata": {},
   "outputs": [],
   "source": [
    "x = X_train\n",
    "y = Y_train\n",
    "\n",
    "hypo = sig(np.dot(x,theta))\n",
    "\n",
    "truehypoindexes = np.where(y)[0]\n",
    "falsehypo = np.delete(hypo,truehypoindexes)\n",
    "\n",
    "cost0 = sum(-np.log(1-falsehypo))\n",
    "cost1 = sum(-np.log(hypo[truehypoindexes]))"
   ]
  },
  {
   "cell_type": "code",
   "execution_count": 53,
   "metadata": {},
   "outputs": [
    {
     "name": "stdout",
     "output_type": "stream",
     "text": [
      "88.72283911167311 257.8507511683002\n"
     ]
    }
   ],
   "source": [
    "print(cost0,cost1)\n",
    "c = (cost0+cost1)"
   ]
  },
  {
   "cell_type": "code",
   "execution_count": 54,
   "metadata": {},
   "outputs": [
    {
     "name": "stdout",
     "output_type": "stream",
     "text": [
      "0.6931471805599466\n"
     ]
    }
   ],
   "source": [
    "print(c/500)"
   ]
  },
  {
   "cell_type": "code",
   "execution_count": 55,
   "metadata": {},
   "outputs": [],
   "source": [
    "g = np.zeros(theta.shape)\n",
    "error = hypo-y\n",
    "g = (2/N) * (np.dot(error.T, x))"
   ]
  },
  {
   "cell_type": "code",
   "execution_count": 56,
   "metadata": {},
   "outputs": [
    {
     "name": "stdout",
     "output_type": "stream",
     "text": [
      "(10,)\n"
     ]
    }
   ],
   "source": [
    "print(g.shape)"
   ]
  },
  {
   "cell_type": "code",
   "execution_count": null,
   "metadata": {},
   "outputs": [],
   "source": []
  }
 ],
 "metadata": {
  "kernelspec": {
   "display_name": "Python 3",
   "language": "python",
   "name": "python3"
  },
  "language_info": {
   "codemirror_mode": {
    "name": "ipython",
    "version": 3
   },
   "file_extension": ".py",
   "mimetype": "text/x-python",
   "name": "python",
   "nbconvert_exporter": "python",
   "pygments_lexer": "ipython3",
   "version": "3.6.4"
  }
 },
 "nbformat": 4,
 "nbformat_minor": 1
}
